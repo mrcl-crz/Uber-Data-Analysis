{
  "cells": [
    {
      "cell_type": "markdown",
      "metadata": {
        "id": "-li9VHO_3sX4"
      },
      "source": [
        "# Semana 3 - Atividade 2 - Marcelo Cruz\n",
        "\n",
        "https://www.kaggle.com/datasets/zusmani/uberdrives"
      ]
    },
    {
      "cell_type": "markdown",
      "metadata": {
        "id": "SZEQUC_j53-8"
      },
      "source": [
        "### Importar bibliotecas"
      ]
    },
    {
      "cell_type": "code",
      "execution_count": 6,
      "metadata": {
        "id": "jlgczF423qZx"
      },
      "outputs": [],
      "source": [
        "import pandas as pd # utilizado para ler e analisar os dados\n",
        "import numpy as np # utilizado para manipular os dados\n",
        "import matplotlib.pyplot as plt # utilizada para visualização dos dados\n",
        "import seaborn as sns # utilizada para visualização dos dados\n",
        "import datetime # utilizada para tratar com datas\n",
        "import calendar"
      ]
    },
    {
      "cell_type": "markdown",
      "metadata": {
        "id": "S_-xDTuO6ISU"
      },
      "source": [
        "### Carregar os dados"
      ]
    },
    {
      "cell_type": "markdown",
      "metadata": {
        "id": "y8JJ20VnBTcp"
      },
      "source": [
        "Para ler um arquivo csv, utilizamos o método read_csv, da biblioteca Pandas."
      ]
    },
    {
      "cell_type": "code",
      "execution_count": 7,
      "metadata": {
        "id": "LQpb3tpZ5Ay5"
      },
      "outputs": [],
      "source": [
        "data = pd.read_csv('dataset/uberdata.csv')"
      ]
    },
    {
      "cell_type": "markdown",
      "metadata": {
        "id": "ArcGmsqH6lIT"
      },
      "source": [
        "### Breve olhada nos dados"
      ]
    },
    {
      "cell_type": "markdown",
      "metadata": {
        "id": "3db4KWFJB3j3"
      },
      "source": [
        "Primeiro, vamos ver quantas linhas e quantas colunas nosso data set possui."
      ]
    },
    {
      "cell_type": "code",
      "execution_count": 8,
      "metadata": {
        "colab": {
          "base_uri": "https://localhost:8080/"
        },
        "id": "g87DU-jvBmdk",
        "outputId": "b3cc6bcf-740c-4140-a4fa-ae5c32d6ed7e"
      },
      "outputs": [
        {
          "data": {
            "text/plain": [
              "(1156, 7)"
            ]
          },
          "execution_count": 8,
          "metadata": {},
          "output_type": "execute_result"
        }
      ],
      "source": [
        "data.shape"
      ]
    },
    {
      "cell_type": "markdown",
      "metadata": {
        "id": "PuV0rM9QBQZq"
      },
      "source": [
        "Quando desejamos ver apenas uma pequena amostra dos dados, podemos utilizar o\n",
        "método head(), que mostrará os primeiro 5 registros do data set."
      ]
    },
    {
      "cell_type": "code",
      "execution_count": 9,
      "metadata": {
        "colab": {
          "base_uri": "https://localhost:8080/",
          "height": 206
        },
        "id": "l880oN9x6TWN",
        "outputId": "8254f1a1-3865-4101-f32b-8bf672fa923f"
      },
      "outputs": [
        {
          "data": {
            "text/html": [
              "<div>\n",
              "<style scoped>\n",
              "    .dataframe tbody tr th:only-of-type {\n",
              "        vertical-align: middle;\n",
              "    }\n",
              "\n",
              "    .dataframe tbody tr th {\n",
              "        vertical-align: top;\n",
              "    }\n",
              "\n",
              "    .dataframe thead th {\n",
              "        text-align: right;\n",
              "    }\n",
              "</style>\n",
              "<table border=\"1\" class=\"dataframe\">\n",
              "  <thead>\n",
              "    <tr style=\"text-align: right;\">\n",
              "      <th></th>\n",
              "      <th>START_DATE*</th>\n",
              "      <th>END_DATE*</th>\n",
              "      <th>CATEGORY*</th>\n",
              "      <th>START*</th>\n",
              "      <th>STOP*</th>\n",
              "      <th>MILES*</th>\n",
              "      <th>PURPOSE*</th>\n",
              "    </tr>\n",
              "  </thead>\n",
              "  <tbody>\n",
              "    <tr>\n",
              "      <th>0</th>\n",
              "      <td>1/1/2016 21:11</td>\n",
              "      <td>1/1/2016 21:17</td>\n",
              "      <td>Business</td>\n",
              "      <td>Fort Pierce</td>\n",
              "      <td>Fort Pierce</td>\n",
              "      <td>5.1</td>\n",
              "      <td>Meal/Entertain</td>\n",
              "    </tr>\n",
              "    <tr>\n",
              "      <th>1</th>\n",
              "      <td>1/2/2016 1:25</td>\n",
              "      <td>1/2/2016 1:37</td>\n",
              "      <td>Business</td>\n",
              "      <td>Fort Pierce</td>\n",
              "      <td>Fort Pierce</td>\n",
              "      <td>5.0</td>\n",
              "      <td>NaN</td>\n",
              "    </tr>\n",
              "    <tr>\n",
              "      <th>2</th>\n",
              "      <td>1/2/2016 20:25</td>\n",
              "      <td>1/2/2016 20:38</td>\n",
              "      <td>Business</td>\n",
              "      <td>Fort Pierce</td>\n",
              "      <td>Fort Pierce</td>\n",
              "      <td>4.8</td>\n",
              "      <td>Errand/Supplies</td>\n",
              "    </tr>\n",
              "    <tr>\n",
              "      <th>3</th>\n",
              "      <td>1/5/2016 17:31</td>\n",
              "      <td>1/5/2016 17:45</td>\n",
              "      <td>Business</td>\n",
              "      <td>Fort Pierce</td>\n",
              "      <td>Fort Pierce</td>\n",
              "      <td>4.7</td>\n",
              "      <td>Meeting</td>\n",
              "    </tr>\n",
              "    <tr>\n",
              "      <th>4</th>\n",
              "      <td>1/6/2016 14:42</td>\n",
              "      <td>1/6/2016 15:49</td>\n",
              "      <td>Business</td>\n",
              "      <td>Fort Pierce</td>\n",
              "      <td>West Palm Beach</td>\n",
              "      <td>63.7</td>\n",
              "      <td>Customer Visit</td>\n",
              "    </tr>\n",
              "  </tbody>\n",
              "</table>\n",
              "</div>"
            ],
            "text/plain": [
              "      START_DATE*       END_DATE* CATEGORY*       START*            STOP*  \\\n",
              "0  1/1/2016 21:11  1/1/2016 21:17  Business  Fort Pierce      Fort Pierce   \n",
              "1   1/2/2016 1:25   1/2/2016 1:37  Business  Fort Pierce      Fort Pierce   \n",
              "2  1/2/2016 20:25  1/2/2016 20:38  Business  Fort Pierce      Fort Pierce   \n",
              "3  1/5/2016 17:31  1/5/2016 17:45  Business  Fort Pierce      Fort Pierce   \n",
              "4  1/6/2016 14:42  1/6/2016 15:49  Business  Fort Pierce  West Palm Beach   \n",
              "\n",
              "   MILES*         PURPOSE*  \n",
              "0     5.1   Meal/Entertain  \n",
              "1     5.0              NaN  \n",
              "2     4.8  Errand/Supplies  \n",
              "3     4.7          Meeting  \n",
              "4    63.7   Customer Visit  "
            ]
          },
          "execution_count": 9,
          "metadata": {},
          "output_type": "execute_result"
        }
      ],
      "source": [
        "data.head()"
      ]
    },
    {
      "cell_type": "markdown",
      "metadata": {
        "id": "4T0wXtXR8ayR"
      },
      "source": [
        "### Verificar se há valores faltantes\n",
        "\n",
        "O Python representa valores faltantes como **NaN**.\n",
        "\n",
        "Vamos ver se encontramos valores assim nos dados."
      ]
    },
    {
      "cell_type": "markdown",
      "metadata": {
        "id": "_X7iPuCbBLpR"
      },
      "source": [
        "Para que possamos verificar se existem valores faltantes (NaN) no data set,\n",
        "utilizamos o método isnull(), que retorna True ou False para cada célula.\n",
        "Porém, seria inviável vermos se todos os valores correspondem a True ou False.\n",
        "Para facilitar nosso trabalho, podemos somar estes resultados utilizando \n",
        "o método sum()."
      ]
    },
    {
      "cell_type": "code",
      "execution_count": 10,
      "metadata": {
        "colab": {
          "base_uri": "https://localhost:8080/"
        },
        "id": "C0c9DSWt8OrZ",
        "outputId": "2efad36b-f9cf-4db4-99dc-5d81abf10bce"
      },
      "outputs": [
        {
          "data": {
            "text/plain": [
              "START_DATE*      0\n",
              "END_DATE*        1\n",
              "CATEGORY*        1\n",
              "START*           1\n",
              "STOP*            1\n",
              "MILES*           0\n",
              "PURPOSE*       503\n",
              "dtype: int64"
            ]
          },
          "execution_count": 10,
          "metadata": {},
          "output_type": "execute_result"
        }
      ],
      "source": [
        "data.isnull().sum()"
      ]
    },
    {
      "cell_type": "markdown",
      "metadata": {
        "id": "L-cXlTQvBIWn"
      },
      "source": [
        "Podemos ver que o atributo PURPOSE é o pior de todos, pois contém 503 valores\n",
        "faltantes.\n",
        "\n",
        "O que podemos fazer para tratar isso?\n",
        "\n",
        "Poderíamos simplesmente deletar os registros que possuem valores faltantes, mas isso causaria a perda de muitos dados. Outra alternativa é substituirmos estes valores por outros já existentes.\n",
        "\n",
        "No caso do atributo PURPOSE, estamos lidando com uma variável categórica, ou seja, que podem assumir apenas alguns valores específicos. Para tratar este tipo de variável faltante, nós os substituimos pela moda, que seria o valor que mais aparece.\n",
        "\n",
        "Então, vamos descobrir qual é o valor que mais aparece no atributo PURPOSE.\n",
        "\n",
        "Podemos fazer isso olhando todos os valores que o atributo possui, utilizando o método value_counts()."
      ]
    },
    {
      "cell_type": "code",
      "execution_count": 11,
      "metadata": {
        "colab": {
          "base_uri": "https://localhost:8080/"
        },
        "id": "kVu8BZeaBIrO",
        "outputId": "4f45a5e3-8b8c-4624-ff46-9943c4ff5e17"
      },
      "outputs": [
        {
          "data": {
            "text/plain": [
              "Meeting            187\n",
              "Meal/Entertain     160\n",
              "Errand/Supplies    128\n",
              "Customer Visit     101\n",
              "Temporary Site      50\n",
              "Between Offices     18\n",
              "Moving               4\n",
              "Airport/Travel       3\n",
              "Charity ($)          1\n",
              "Commute              1\n",
              "Name: PURPOSE*, dtype: int64"
            ]
          },
          "execution_count": 11,
          "metadata": {},
          "output_type": "execute_result"
        }
      ],
      "source": [
        "data['PURPOSE*'].value_counts()"
      ]
    },
    {
      "cell_type": "markdown",
      "metadata": {
        "id": "CZeV-A5tFFKO"
      },
      "source": [
        "Ou podemos ir direto ao ponto, utilizando o método mode() que, como você deve estar pensando, retorna a moda."
      ]
    },
    {
      "cell_type": "code",
      "execution_count": 12,
      "metadata": {
        "colab": {
          "base_uri": "https://localhost:8080/"
        },
        "id": "jgkFzVKbE1Hq",
        "outputId": "abef2e54-ba98-43cf-80f1-43d3dbb5d40c"
      },
      "outputs": [
        {
          "data": {
            "text/plain": [
              "0    Meeting\n",
              "dtype: object"
            ]
          },
          "execution_count": 12,
          "metadata": {},
          "output_type": "execute_result"
        }
      ],
      "source": [
        "data['PURPOSE*'].mode()"
      ]
    },
    {
      "cell_type": "markdown",
      "metadata": {
        "id": "t7RVdNZVFQzZ"
      },
      "source": [
        "Agora, chegou a hora de substituir os valores faltantes por Meeting."
      ]
    },
    {
      "cell_type": "code",
      "execution_count": 13,
      "metadata": {
        "id": "eyvZDp6CDuJg"
      },
      "outputs": [],
      "source": [
        "#data['PURPOSE*'] = data['PURPOSE*'].fillna(data['PURPOSE*'].mode)\n",
        "# por algum motivo, esta mudança está causando o seguinte erro:\n",
        "# RecursionError: maximum recursion depth exceeded in comparison\n",
        "# por isso, ele foi comentado\n"
      ]
    },
    {
      "cell_type": "markdown",
      "metadata": {
        "id": "q6RswO9XGRKf"
      },
      "source": [
        "Vamos verificar a contagem dos valores faltantes novamente."
      ]
    },
    {
      "cell_type": "code",
      "execution_count": 14,
      "metadata": {
        "colab": {
          "base_uri": "https://localhost:8080/"
        },
        "id": "UccCFCWfGMf_",
        "outputId": "869ceeb4-6f32-49be-c653-b5214bcf4073"
      },
      "outputs": [
        {
          "data": {
            "text/plain": [
              "START_DATE*      0\n",
              "END_DATE*        1\n",
              "CATEGORY*        1\n",
              "START*           1\n",
              "STOP*            1\n",
              "MILES*           0\n",
              "PURPOSE*       503\n",
              "dtype: int64"
            ]
          },
          "execution_count": 14,
          "metadata": {},
          "output_type": "execute_result"
        }
      ],
      "source": [
        "data.isnull().sum()"
      ]
    },
    {
      "cell_type": "markdown",
      "metadata": {
        "id": "vc_eF7a1GWV6"
      },
      "source": [
        "Voilà! Não temos mais nenhum valor faltante no atributo PURPOSE.\n",
        "\n",
        "Para o restante dos valores, podemos dropar, pois não são significantes."
      ]
    },
    {
      "cell_type": "code",
      "execution_count": 15,
      "metadata": {
        "colab": {
          "base_uri": "https://localhost:8080/"
        },
        "id": "sJy1AN9XGQGo",
        "outputId": "544e9836-8687-43ed-f4a1-c4cb440f7ef0"
      },
      "outputs": [
        {
          "data": {
            "text/plain": [
              "START_DATE*    0\n",
              "END_DATE*      0\n",
              "CATEGORY*      0\n",
              "START*         0\n",
              "STOP*          0\n",
              "MILES*         0\n",
              "PURPOSE*       0\n",
              "dtype: int64"
            ]
          },
          "execution_count": 15,
          "metadata": {},
          "output_type": "execute_result"
        }
      ],
      "source": [
        "data = data.dropna()\n",
        "data.isnull().sum()"
      ]
    },
    {
      "cell_type": "markdown",
      "metadata": {
        "id": "uErsrKptIExp"
      },
      "source": [
        "## Atributos com tipo de dado correto\n"
      ]
    },
    {
      "cell_type": "markdown",
      "metadata": {
        "id": "ULa1qeRCIakH"
      },
      "source": [
        "\n",
        "Vamos verificar se os atributos do nosso data set estão no formato correto."
      ]
    },
    {
      "cell_type": "code",
      "execution_count": 16,
      "metadata": {
        "colab": {
          "base_uri": "https://localhost:8080/"
        },
        "id": "1vM8mJsVIMyi",
        "outputId": "92d667a0-5e33-4620-95e5-c867a90921f7"
      },
      "outputs": [
        {
          "data": {
            "text/plain": [
              "START_DATE*     object\n",
              "END_DATE*       object\n",
              "CATEGORY*       object\n",
              "START*          object\n",
              "STOP*           object\n",
              "MILES*         float64\n",
              "PURPOSE*        object\n",
              "dtype: object"
            ]
          },
          "execution_count": 16,
          "metadata": {},
          "output_type": "execute_result"
        }
      ],
      "source": [
        "data.dtypes"
      ]
    },
    {
      "cell_type": "markdown",
      "metadata": {
        "id": "m-P8DmFYIkVQ"
      },
      "source": [
        "Logo podemos ver que os atributos START_DATE e END_DATE não estão no formato correto, pois deveriam estar no formato date.\n",
        "\n",
        "Vamos convertê-los para o tipo correto."
      ]
    },
    {
      "cell_type": "code",
      "execution_count": 17,
      "metadata": {
        "id": "SRugt1HxIcPG"
      },
      "outputs": [],
      "source": [
        "data['START_DATE*'] = pd.to_datetime(data['START_DATE*'], format='%m/%d/%Y %H:%M')\n",
        "data['END_DATE*'] = pd.to_datetime(data['END_DATE*'], format='%m/%d/%Y %H:%M')"
      ]
    },
    {
      "cell_type": "markdown",
      "metadata": {
        "id": "cQuIN_OOJ4um"
      },
      "source": [
        "Vamos ver os tipos novamente."
      ]
    },
    {
      "cell_type": "code",
      "execution_count": 18,
      "metadata": {
        "colab": {
          "base_uri": "https://localhost:8080/"
        },
        "id": "BBr25iuLJqBN",
        "outputId": "492f53de-ceca-42bd-d0b9-152663f24d81"
      },
      "outputs": [
        {
          "data": {
            "text/plain": [
              "START_DATE*    datetime64[ns]\n",
              "END_DATE*      datetime64[ns]\n",
              "CATEGORY*              object\n",
              "START*                 object\n",
              "STOP*                  object\n",
              "MILES*                float64\n",
              "PURPOSE*               object\n",
              "dtype: object"
            ]
          },
          "execution_count": 18,
          "metadata": {},
          "output_type": "execute_result"
        }
      ],
      "source": [
        "data.dtypes"
      ]
    },
    {
      "cell_type": "markdown",
      "metadata": {
        "id": "kbNqitahMKOK"
      },
      "source": [
        "## Dividir os valores das datas"
      ]
    },
    {
      "cell_type": "markdown",
      "metadata": {
        "id": "073DbkJSMSWK"
      },
      "source": [
        "Para que possamos manusear as datas com mais facilidade, vamos separar a hora, o dia, o dia da semana, o mês e o nome dos dias das semana."
      ]
    },
    {
      "cell_type": "markdown",
      "metadata": {
        "id": "Swgn1fFqMoe_"
      },
      "source": [
        "Primeiro, vamos criar as variáveis onde iremos armazenar estes valores."
      ]
    },
    {
      "cell_type": "code",
      "execution_count": 19,
      "metadata": {
        "id": "vlVeNc2UMP1-"
      },
      "outputs": [],
      "source": [
        "hour = []\n",
        "day = []\n",
        "dayofweek = []\n",
        "month = []\n",
        "weekday = []"
      ]
    },
    {
      "cell_type": "markdown",
      "metadata": {
        "id": "k0s7718WOU0K"
      },
      "source": [
        "Agora, vamos pegar todos estes valores do atributo START_DATE."
      ]
    },
    {
      "cell_type": "code",
      "execution_count": 20,
      "metadata": {
        "id": "KumL_TeeNJAt"
      },
      "outputs": [],
      "source": [
        "for x in data['START_DATE*']:\n",
        "  hour.append(x.hour)\n",
        "  day.append(x.day)\n",
        "  dayofweek.append(x.dayofweek)\n",
        "  month.append(x.month)\n",
        "  weekday.append(calendar.day_name[dayofweek[-1]])"
      ]
    },
    {
      "cell_type": "markdown",
      "metadata": {
        "id": "Vi-7kSH9O8v4"
      },
      "source": [
        "O próximo passo é criar os atributos correspondentes."
      ]
    },
    {
      "cell_type": "code",
      "execution_count": 21,
      "metadata": {
        "id": "sTNMi37FO6xj"
      },
      "outputs": [],
      "source": [
        "data['HOUR'] = hour\n",
        "data['DAY'] = day\n",
        "data['DAY OF WEEK'] = dayofweek\n",
        "data['MONTH'] = month\n",
        "data['WEEKDAY'] = weekday"
      ]
    },
    {
      "cell_type": "markdown",
      "metadata": {
        "id": "u56HZff5PQVY"
      },
      "source": [
        "Vamos ver como ficou."
      ]
    },
    {
      "cell_type": "code",
      "execution_count": 22,
      "metadata": {
        "colab": {
          "base_uri": "https://localhost:8080/",
          "height": 206
        },
        "id": "3o293Xx3POIh",
        "outputId": "b6d15a36-c6e3-4c06-e1f0-e84fbc619666"
      },
      "outputs": [
        {
          "data": {
            "text/html": [
              "<div>\n",
              "<style scoped>\n",
              "    .dataframe tbody tr th:only-of-type {\n",
              "        vertical-align: middle;\n",
              "    }\n",
              "\n",
              "    .dataframe tbody tr th {\n",
              "        vertical-align: top;\n",
              "    }\n",
              "\n",
              "    .dataframe thead th {\n",
              "        text-align: right;\n",
              "    }\n",
              "</style>\n",
              "<table border=\"1\" class=\"dataframe\">\n",
              "  <thead>\n",
              "    <tr style=\"text-align: right;\">\n",
              "      <th></th>\n",
              "      <th>START_DATE*</th>\n",
              "      <th>END_DATE*</th>\n",
              "      <th>CATEGORY*</th>\n",
              "      <th>START*</th>\n",
              "      <th>STOP*</th>\n",
              "      <th>MILES*</th>\n",
              "      <th>PURPOSE*</th>\n",
              "      <th>HOUR</th>\n",
              "      <th>DAY</th>\n",
              "      <th>DAY OF WEEK</th>\n",
              "      <th>MONTH</th>\n",
              "      <th>WEEKDAY</th>\n",
              "    </tr>\n",
              "  </thead>\n",
              "  <tbody>\n",
              "    <tr>\n",
              "      <th>0</th>\n",
              "      <td>2016-01-01 21:11:00</td>\n",
              "      <td>2016-01-01 21:17:00</td>\n",
              "      <td>Business</td>\n",
              "      <td>Fort Pierce</td>\n",
              "      <td>Fort Pierce</td>\n",
              "      <td>5.1</td>\n",
              "      <td>Meal/Entertain</td>\n",
              "      <td>21</td>\n",
              "      <td>1</td>\n",
              "      <td>4</td>\n",
              "      <td>1</td>\n",
              "      <td>Friday</td>\n",
              "    </tr>\n",
              "    <tr>\n",
              "      <th>2</th>\n",
              "      <td>2016-01-02 20:25:00</td>\n",
              "      <td>2016-01-02 20:38:00</td>\n",
              "      <td>Business</td>\n",
              "      <td>Fort Pierce</td>\n",
              "      <td>Fort Pierce</td>\n",
              "      <td>4.8</td>\n",
              "      <td>Errand/Supplies</td>\n",
              "      <td>20</td>\n",
              "      <td>2</td>\n",
              "      <td>5</td>\n",
              "      <td>1</td>\n",
              "      <td>Saturday</td>\n",
              "    </tr>\n",
              "    <tr>\n",
              "      <th>3</th>\n",
              "      <td>2016-01-05 17:31:00</td>\n",
              "      <td>2016-01-05 17:45:00</td>\n",
              "      <td>Business</td>\n",
              "      <td>Fort Pierce</td>\n",
              "      <td>Fort Pierce</td>\n",
              "      <td>4.7</td>\n",
              "      <td>Meeting</td>\n",
              "      <td>17</td>\n",
              "      <td>5</td>\n",
              "      <td>1</td>\n",
              "      <td>1</td>\n",
              "      <td>Tuesday</td>\n",
              "    </tr>\n",
              "    <tr>\n",
              "      <th>4</th>\n",
              "      <td>2016-01-06 14:42:00</td>\n",
              "      <td>2016-01-06 15:49:00</td>\n",
              "      <td>Business</td>\n",
              "      <td>Fort Pierce</td>\n",
              "      <td>West Palm Beach</td>\n",
              "      <td>63.7</td>\n",
              "      <td>Customer Visit</td>\n",
              "      <td>14</td>\n",
              "      <td>6</td>\n",
              "      <td>2</td>\n",
              "      <td>1</td>\n",
              "      <td>Wednesday</td>\n",
              "    </tr>\n",
              "    <tr>\n",
              "      <th>5</th>\n",
              "      <td>2016-01-06 17:15:00</td>\n",
              "      <td>2016-01-06 17:19:00</td>\n",
              "      <td>Business</td>\n",
              "      <td>West Palm Beach</td>\n",
              "      <td>West Palm Beach</td>\n",
              "      <td>4.3</td>\n",
              "      <td>Meal/Entertain</td>\n",
              "      <td>17</td>\n",
              "      <td>6</td>\n",
              "      <td>2</td>\n",
              "      <td>1</td>\n",
              "      <td>Wednesday</td>\n",
              "    </tr>\n",
              "  </tbody>\n",
              "</table>\n",
              "</div>"
            ],
            "text/plain": [
              "          START_DATE*           END_DATE* CATEGORY*           START*  \\\n",
              "0 2016-01-01 21:11:00 2016-01-01 21:17:00  Business      Fort Pierce   \n",
              "2 2016-01-02 20:25:00 2016-01-02 20:38:00  Business      Fort Pierce   \n",
              "3 2016-01-05 17:31:00 2016-01-05 17:45:00  Business      Fort Pierce   \n",
              "4 2016-01-06 14:42:00 2016-01-06 15:49:00  Business      Fort Pierce   \n",
              "5 2016-01-06 17:15:00 2016-01-06 17:19:00  Business  West Palm Beach   \n",
              "\n",
              "             STOP*  MILES*         PURPOSE*  HOUR  DAY  DAY OF WEEK  MONTH  \\\n",
              "0      Fort Pierce     5.1   Meal/Entertain    21    1            4      1   \n",
              "2      Fort Pierce     4.8  Errand/Supplies    20    2            5      1   \n",
              "3      Fort Pierce     4.7          Meeting    17    5            1      1   \n",
              "4  West Palm Beach    63.7   Customer Visit    14    6            2      1   \n",
              "5  West Palm Beach     4.3   Meal/Entertain    17    6            2      1   \n",
              "\n",
              "     WEEKDAY  \n",
              "0     Friday  \n",
              "2   Saturday  \n",
              "3    Tuesday  \n",
              "4  Wednesday  \n",
              "5  Wednesday  "
            ]
          },
          "execution_count": 22,
          "metadata": {},
          "output_type": "execute_result"
        }
      ],
      "source": [
        "data.head()"
      ]
    },
    {
      "cell_type": "markdown",
      "metadata": {
        "id": "B-oYi2v5jUXc"
      },
      "source": [
        "## Categorias de viagem"
      ]
    },
    {
      "cell_type": "code",
      "execution_count": 23,
      "metadata": {
        "colab": {
          "base_uri": "https://localhost:8080/"
        },
        "id": "ybJ9YsS7SsHO",
        "outputId": "f9e22416-74fd-452a-ff32-0d77360df331"
      },
      "outputs": [
        {
          "data": {
            "text/plain": [
              "Business    647\n",
              "Personal      6\n",
              "Name: CATEGORY*, dtype: int64"
            ]
          },
          "execution_count": 23,
          "metadata": {},
          "output_type": "execute_result"
        }
      ],
      "source": [
        "data['CATEGORY*'].value_counts()"
      ]
    },
    {
      "cell_type": "markdown",
      "metadata": {
        "id": "qGH5eqlmnfYr"
      },
      "source": [
        "Podemos ver que a categoria Business, em que a conta está relacionada ao seu trabalho, é a mais utilizada, de longe. Mais adiante veremos o porquê.\n",
        "\n",
        "Vamos ver isso de forma gráfica."
      ]
    },
    {
      "cell_type": "code",
      "execution_count": 24,
      "metadata": {
        "colab": {
          "base_uri": "https://localhost:8080/",
          "height": 296
        },
        "id": "GCcQB8DYjegQ",
        "outputId": "3d0c7fcc-de15-487f-bf7d-79c54efd94bc"
      },
      "outputs": [
        {
          "data": {
            "text/plain": [
              "<AxesSubplot:xlabel='CATEGORY*', ylabel='count'>"
            ]
          },
          "execution_count": 24,
          "metadata": {},
          "output_type": "execute_result"
        },
        {
          "data": {
            "image/png": "[encoded data removed]",
            "text/plain": [
              "<Figure size 432x288 with 1 Axes>"
            ]
          },
          "metadata": {
            "needs_background": "light"
          },
          "output_type": "display_data"
        }
      ],
      "source": [
        "sns.countplot(x='CATEGORY*', data=data)"
      ]
    },
    {
      "cell_type": "markdown",
      "metadata": {
        "id": "SzRep1Fxood2"
      },
      "source": [
        "## Qual a distância que as pessoas viagem de Uber?"
      ]
    },
    {
      "cell_type": "markdown",
      "metadata": {
        "id": "ezUrfpsso9Yg"
      },
      "source": [
        "Vamos ver isso utilizando um gráfico de histograma."
      ]
    },
    {
      "cell_type": "code",
      "execution_count": 25,
      "metadata": {
        "colab": {
          "base_uri": "https://localhost:8080/",
          "height": 282
        },
        "id": "6xFVj0QOn6Jn",
        "outputId": "656820e3-ccec-4a49-8a24-856136497583"
      },
      "outputs": [
        {
          "data": {
            "text/plain": [
              "<AxesSubplot:ylabel='Frequency'>"
            ]
          },
          "execution_count": 25,
          "metadata": {},
          "output_type": "execute_result"
        },
        {
          "data": {
            "image/png": "[encoded data removed]",
            "text/plain": [
              "<Figure size 432x288 with 1 Axes>"
            ]
          },
          "metadata": {
            "needs_background": "light"
          },
          "output_type": "display_data"
        }
      ],
      "source": [
        "data['MILES*'].plot.hist()"
      ]
    },
    {
      "cell_type": "markdown",
      "metadata": {
        "id": "c8bTqzl-pBil"
      },
      "source": [
        "Podemos ver que a grande maioria dos usuários fazem viagens de curta distância."
      ]
    },
    {
      "cell_type": "markdown",
      "metadata": {
        "id": "q_TSb2zVpNc7"
      },
      "source": [
        "## Qual o horário que as pessoas mais costumam utilizar o Uber?"
      ]
    },
    {
      "cell_type": "markdown",
      "metadata": {
        "id": "prVkefECpXT8"
      },
      "source": [
        "Esta é uma boa pergunta, pois podemos saber qual horário é melhor para notificar algo aos usuários, como uma propaganda, por exemplo."
      ]
    },
    {
      "cell_type": "code",
      "execution_count": 26,
      "metadata": {
        "colab": {
          "base_uri": "https://localhost:8080/",
          "height": 369
        },
        "id": "M0Mp2FlWo7Ik",
        "outputId": "1cd096bc-4dd2-41b0-cbb2-8eca5dabf95a"
      },
      "outputs": [
        {
          "data": {
            "text/plain": [
              "Text(0.5, 1.0, 'Number of trips vs hours')"
            ]
          },
          "execution_count": 26,
          "metadata": {},
          "output_type": "execute_result"
        },
        {
          "data": {
            "image/png": "[encoded data removed]",
            "text/plain": [
              "<Figure size 720x360 with 1 Axes>"
            ]
          },
          "metadata": {
            "needs_background": "light"
          },
          "output_type": "display_data"
        }
      ],
      "source": [
        "hours = data['START_DATE*'].dt.hour.value_counts()\n",
        "hours.plot.bar(figsize=(10,5))\n",
        "\n",
        "plt.xlabel('Hours')\n",
        "plt.ylabel('Frequency')\n",
        "plt.title('Number of trips vs hours')"
      ]
    },
    {
      "cell_type": "markdown",
      "metadata": {
        "id": "_RzPuq7nqJlh"
      },
      "source": [
        "Podemos ver que o horário que as pessoas mais utilizam Uber é às 13h, seguido pelos horários de 14h, 17h, 15h e 18h."
      ]
    },
    {
      "cell_type": "markdown",
      "metadata": {
        "id": "YGl_P6xLqe_u"
      },
      "source": [
        "## Qual o próposito da viagem?"
      ]
    },
    {
      "cell_type": "code",
      "execution_count": 27,
      "metadata": {
        "colab": {
          "base_uri": "https://localhost:8080/",
          "height": 408
        },
        "id": "caW6xukTpxoI",
        "outputId": "df04f9aa-817f-4c61-cfd8-e30cca641e4f"
      },
      "outputs": [
        {
          "data": {
            "text/plain": [
              "<AxesSubplot:>"
            ]
          },
          "execution_count": 27,
          "metadata": {},
          "output_type": "execute_result"
        },
        {
          "data": {
            "image/png": "[encoded data removed]",
            "text/plain": [
              "<Figure size 720x360 with 1 Axes>"
            ]
          },
          "metadata": {
            "needs_background": "light"
          },
          "output_type": "display_data"
        }
      ],
      "source": [
        "data['PURPOSE*'].value_counts().plot(kind='bar', figsize=(10,5))"
      ]
    },
    {
      "cell_type": "markdown",
      "metadata": {
        "id": "9evE-ct2tl9d"
      },
      "source": [
        "Podemos ver que as pessoas utilizaram mais o serviço para ir a Meeting."
      ]
    },
    {
      "cell_type": "markdown",
      "metadata": {
        "id": "49TartgCun4V"
      },
      "source": [
        "Isto é interessante, pois a Uber pode focar pessoas que vão a reuniões com mais frequência. Por exemplo, oferecer um desconto para quem usa o serviço para ir a reuniões ou para jantar/entretenimento."
      ]
    },
    {
      "cell_type": "markdown",
      "metadata": {
        "id": "9kdGtFwyvkn5"
      },
      "source": [
        "## Qual dia tem o maior número de viagens?"
      ]
    },
    {
      "cell_type": "code",
      "execution_count": 28,
      "metadata": {
        "colab": {
          "base_uri": "https://localhost:8080/",
          "height": 385
        },
        "id": "gePRmOHwrqAN",
        "outputId": "d250911c-5d89-411e-cf28-6d328bdf42c7"
      },
      "outputs": [
        {
          "data": {
            "text/plain": [
              "<AxesSubplot:>"
            ]
          },
          "execution_count": 28,
          "metadata": {},
          "output_type": "execute_result"
        },
        {
          "data": {
            "image/png": "[encoded data removed]",
            "text/plain": [
              "<Figure size 720x360 with 1 Axes>"
            ]
          },
          "metadata": {
            "needs_background": "light"
          },
          "output_type": "display_data"
        }
      ],
      "source": [
        "data['WEEKDAY'].value_counts().plot(kind='bar', figsize=(10,5))"
      ]
    },
    {
      "cell_type": "markdown",
      "metadata": {
        "id": "KHJc8gD8wdcL"
      },
      "source": [
        "Podemos ver que o dia que as pessoas mais viajam é Sexta-feira"
      ]
    },
    {
      "cell_type": "markdown",
      "metadata": {
        "id": "w_6BfN3-wrZM"
      },
      "source": [
        "## Qual o número de viagens por dia?"
      ]
    },
    {
      "cell_type": "code",
      "execution_count": 29,
      "metadata": {
        "colab": {
          "base_uri": "https://localhost:8080/",
          "height": 339
        },
        "id": "FfXl1e1rwb5R",
        "outputId": "9340774c-47d3-4066-c81c-1826c42ec9c8"
      },
      "outputs": [
        {
          "data": {
            "text/plain": [
              "<AxesSubplot:>"
            ]
          },
          "execution_count": 29,
          "metadata": {},
          "output_type": "execute_result"
        },
        {
          "data": {
            "image/png": "[encoded data removed]",
            "text/plain": [
              "<Figure size 720x360 with 1 Axes>"
            ]
          },
          "metadata": {
            "needs_background": "light"
          },
          "output_type": "display_data"
        }
      ],
      "source": [
        "data['DAY'].value_counts().plot(kind='bar', figsize=(10,5))"
      ]
    },
    {
      "cell_type": "markdown",
      "metadata": {
        "id": "F6otF9A7w3YR"
      },
      "source": [
        "Podemos ver que o dia 21 é o dia em que as pessoas mais viajam. Elas viajam bastante no dia 29, mas pouco nos dias 30 e 31, o que é interessante."
      ]
    },
    {
      "cell_type": "markdown",
      "metadata": {
        "id": "oAXRWKK5xGfH"
      },
      "source": [
        "## Qual o número de viagens por mês?"
      ]
    },
    {
      "cell_type": "code",
      "execution_count": 30,
      "metadata": {
        "colab": {
          "base_uri": "https://localhost:8080/",
          "height": 342
        },
        "id": "6eHA3D4ywwkV",
        "outputId": "d97be449-5c6b-44bc-99b0-510806a03be1"
      },
      "outputs": [
        {
          "data": {
            "text/plain": [
              "<AxesSubplot:>"
            ]
          },
          "execution_count": 30,
          "metadata": {},
          "output_type": "execute_result"
        },
        {
          "data": {
            "image/png": "[encoded data removed]",
            "text/plain": [
              "<Figure size 720x360 with 1 Axes>"
            ]
          },
          "metadata": {
            "needs_background": "light"
          },
          "output_type": "display_data"
        }
      ],
      "source": [
        "data['MONTH'].value_counts().plot(kind='bar', figsize=(10,5))"
      ]
    },
    {
      "cell_type": "markdown",
      "metadata": {
        "id": "8K0mvIsHxdeE"
      },
      "source": [
        "Podemos ver que as pessoas viajam bastante em dezembro, e muito pouco em agosto."
      ]
    },
    {
      "cell_type": "markdown",
      "metadata": {
        "id": "X6SYsyU8xpnD"
      },
      "source": [
        "## A partir de onde as pessoas mais saem e vão?"
      ]
    },
    {
      "cell_type": "code",
      "execution_count": 31,
      "metadata": {},
      "outputs": [],
      "source": [
        "data_START= data['START*'].value_counts()[:5].sort_values(ascending=False)"
      ]
    },
    {
      "cell_type": "code",
      "execution_count": 32,
      "metadata": {
        "colab": {
          "base_uri": "https://localhost:8080/",
          "height": 344
        },
        "id": "FW5nrgx6xbBd",
        "outputId": "450f5c8a-6459-4c7b-b821-f518064eb1b2"
      },
      "outputs": [
        {
          "data": {
            "text/plain": [
              "<AxesSubplot:>"
            ]
          },
          "execution_count": 32,
          "metadata": {},
          "output_type": "execute_result"
        },
        {
          "data": {
            "image/png": "[encoded data removed]",
            "text/plain": [
              "<Figure size 2160x360 with 1 Axes>"
            ]
          },
          "metadata": {
            "needs_background": "light"
          },
          "output_type": "display_data"
        }
      ],
      "source": [
        "data_START.plot(kind='bar', figsize=(30,5))"
      ]
    },
    {
      "cell_type": "markdown",
      "metadata": {
        "id": "FyPAHALnx98C"
      },
      "source": [
        "As pessoas saem mais de Cary, mas também costumam não dizer de onde saem exatamente, como podemos ver ali em segundo lugar. O motivo pode ser porque elas utilizam a localização atual e não digitam nada."
      ]
    },
    {
      "cell_type": "code",
      "execution_count": 34,
      "metadata": {},
      "outputs": [],
      "source": [
        "data_STOP= data['STOP*'].value_counts()[:10].sort_values(ascending=False)"
      ]
    },
    {
      "cell_type": "code",
      "execution_count": 35,
      "metadata": {
        "colab": {
          "base_uri": "https://localhost:8080/",
          "height": 343
        },
        "id": "H449mBI2xyIS",
        "outputId": "cee7840d-1a28-4988-aec6-438c25d0fcea"
      },
      "outputs": [
        {
          "data": {
            "text/plain": [
              "<AxesSubplot:>"
            ]
          },
          "execution_count": 35,
          "metadata": {},
          "output_type": "execute_result"
        },
        {
          "data": {
            "image/png": "[encoded data removed]",
            "text/plain": [
              "<Figure size 2160x360 with 1 Axes>"
            ]
          },
          "metadata": {
            "needs_background": "light"
          },
          "output_type": "display_data"
        }
      ],
      "source": [
        "data_STOP.plot(kind='bar', figsize=(30,5))"
      ]
    },
    {
      "cell_type": "markdown",
      "metadata": {
        "id": "9xuCd5TyyYh5"
      },
      "source": [
        "As pessoas também vão muito para o mesmo endereço de que mais saem, Cary. O mesmo ocorre com os endereços desconhecidos, que está em terceiro."
      ]
    },
    {
      "cell_type": "code",
      "execution_count": null,
      "metadata": {
        "id": "Sw4RvSFyyPWy"
      },
      "outputs": [],
      "source": []
    }
  ],
  "metadata": {
    "colab": {
      "name": "MarceloCruz-Atv2-Semana3.ipynb",
      "provenance": []
    },
    "kernelspec": {
      "display_name": "Python 3.9.7 ('base')",
      "language": "python",
      "name": "python3"
    },
    "language_info": {
      "codemirror_mode": {
        "name": "ipython",
        "version": 3
      },
      "file_extension": ".py",
      "mimetype": "text/x-python",
      "name": "python",
      "nbconvert_exporter": "python",
      "pygments_lexer": "ipython3",
      "version": "3.9.7"
    },
    "vscode": {
      "interpreter": {
        "hash": "0c23b94451a1fd93e008088e21a7fb77c3cebdce16d5c69593f720850159548d"
      }
    }
  },
  "nbformat": 4,
  "nbformat_minor": 0
}
